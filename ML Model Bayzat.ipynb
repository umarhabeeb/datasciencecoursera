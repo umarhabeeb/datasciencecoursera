{
 "cells": [
  {
   "cell_type": "code",
   "execution_count": 24,
   "metadata": {},
   "outputs": [],
   "source": [
    "import pandas as pd\n",
    "import numpy as np\n",
    "import sklearn as sk\n",
    "from sklearn import preprocessing\n",
    "from sklearn.linear_model import LogisticRegression\n",
    "from sklearn.model_selection import train_test_split\n",
    "from sklearn.metrics import accuracy_score\n",
    "from sklearn.metrics import confusion_matrix\n",
    "from sklearn.ensemble import RandomForestClassifier\n",
    "from sklearn.tree import DecisionTreeClassifier\n",
    "from sklearn.feature_selection import SelectKBest, chi2\n",
    "from sklearn import svm\n",
    "from sklearn import linear_model, dummy, metrics\n",
    "from sklearn.dummy import DummyClassifier\n",
    "from sklearn.metrics import *\n",
    "import time\n",
    "import os\n",
    "import seaborn as sns\n",
    "import matplotlib.pyplot as plt"
   ]
  },
  {
   "cell_type": "code",
   "execution_count": 25,
   "metadata": {},
   "outputs": [],
   "source": [
    "df = pd.read_csv(r\"training.csv\", decimal = ',')"
   ]
  },
  {
   "cell_type": "code",
   "execution_count": 26,
   "metadata": {},
   "outputs": [],
   "source": [
    "df.variable3 = df.variable3.replace(',','.', regex=True)\n",
    "df['variable3'] = df['variable3'].apply(pd.to_numeric,errors='coerce')\n",
    "\n",
    "del df['variable18']\n",
    "df = df.drop(columns=['variable3', 'variable8'])\n",
    "df = df.drop(columns=['variable10','variable17'])\n",
    "\n",
    "df = df.drop(columns=['variable19'],axis=1)\n",
    "df = df.dropna()\n",
    "df['classLabel'].replace({'no.': 0, 'yes.': 1},inplace = True)\n",
    "\n",
    "#assuming that t means 'TRUE', and f indicates 'FALSE' in variable9, variable10, and variable12. t = 1, f = 0\n",
    "df['variable9'].replace({'f': 0, 't': 1},inplace = True)\n",
    "df['variable12'].replace({'f': 0, 't': 1},inplace = True)\n",
    "\n",
    "#cleaning rest of non-numeric variables\n",
    "categorical_columns = ['variable1','variable4', 'variable5', 'variable6', 'variable7', 'variable13']\n",
    "# transform the categorical columns\n",
    "df = pd.get_dummies(df, columns=categorical_columns)\n",
    "\n",
    "#Using MinMaxScaler to standardize our data\n",
    "scaler = preprocessing.MinMaxScaler()\n",
    "scaler.fit(df)\n",
    "df = pd.DataFrame(scaler.transform(df), index=df.index, columns=df.columns)\n",
    "\n",
    "X = df.loc[:,df.columns!='classLabel']\n",
    "y = df[['classLabel']]"
   ]
  },
  {
   "cell_type": "code",
   "execution_count": 28,
   "metadata": {},
   "outputs": [],
   "source": [
    "#Decision Tree Classifier\n",
    "\n",
    "t0=time.time()\n",
    "X_train,X_test,y_train,y_test = train_test_split(X,y,test_size=0.25)\n",
    "clf_dt = DecisionTreeClassifier(random_state=0) #logisticRegr\n",
    "clf_dt.fit(X_train,y_train)\n",
    "y_pred = clf_dt.predict(X_test) "
   ]
  },
  {
   "cell_type": "code",
   "execution_count": null,
   "metadata": {},
   "outputs": [],
   "source": []
  },
  {
   "cell_type": "code",
   "execution_count": 30,
   "metadata": {},
   "outputs": [],
   "source": [
    "#Input File\n",
    "dfv = pd.read_csv(r\"validation.csv\", decimal = ',')"
   ]
  },
  {
   "cell_type": "code",
   "execution_count": 31,
   "metadata": {},
   "outputs": [],
   "source": [
    "##Cleaning input File\n",
    "\n",
    "dfv.variable3 = dfv.variable3.replace(',','.', regex=True)\n",
    "dfv['variable3'] = dfv['variable3'].apply(pd.to_numeric,errors='coerce')\n",
    "dfv = dfv.drop(columns=['variable3', 'variable8','variable10','variable17','variable18','variable19']) \n",
    "dfv = dfv.dropna()\n",
    "dfv['classLabel'].replace({'no.': 0, 'yes.': 1},inplace = True)\n",
    "dfv['variable9'].replace({'f': 0, 't': 1},inplace = True)\n",
    "dfv['variable12'].replace({'f': 0, 't': 1},inplace = True)\n",
    "\n",
    "\n",
    "categorical_columns = ['variable1','variable4', 'variable5', 'variable6', 'variable7', 'variable13']\n",
    "dfv = pd.get_dummies(dfv, columns=categorical_columns)\n",
    "\n",
    "\n",
    "scaler = preprocessing.MinMaxScaler()\n",
    "scaler.fit(dfv)\n",
    "dfv = pd.DataFrame(scaler.transform(dfv), index=dfv.index, columns=dfv.columns)\n",
    "\n",
    "#Converting this to trained mode format\n",
    "df2 = df.iloc[0:0]\n",
    "df3 = pd.concat([df2,dfv], sort = False)\n",
    "df3 = df3.fillna(0)"
   ]
  },
  {
   "cell_type": "code",
   "execution_count": 33,
   "metadata": {},
   "outputs": [],
   "source": []
  },
  {
   "cell_type": "code",
   "execution_count": 34,
   "metadata": {},
   "outputs": [],
   "source": [
    "#Input X and y\n",
    "X_val = df3.loc[:,df3.columns!='classLabel']\n",
    "y_val = df3[['classLabel']]\n",
    "y_predicted = clf_dt.predict(X_val)\n",
    "\n",
    "y_predicted_df = pd.DataFrame({'Predicted':y_predicted})\n",
    "y_val.reset_index(drop=True, inplace=True)\n",
    "result = pd.concat([y_val, y_predicted_df], axis=1)\n",
    "result.to_csv(r\"result.csv\")"
   ]
  }
 ],
 "metadata": {
  "kernelspec": {
   "display_name": "Python 3",
   "language": "python",
   "name": "python3"
  },
  "language_info": {
   "codemirror_mode": {
    "name": "ipython",
    "version": 3
   },
   "file_extension": ".py",
   "mimetype": "text/x-python",
   "name": "python",
   "nbconvert_exporter": "python",
   "pygments_lexer": "ipython3",
   "version": "3.7.4"
  }
 },
 "nbformat": 4,
 "nbformat_minor": 2
}
